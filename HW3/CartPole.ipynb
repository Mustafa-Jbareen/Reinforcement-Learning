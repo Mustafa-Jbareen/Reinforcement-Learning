{
 "cells": [
  {
   "cell_type": "markdown",
   "metadata": {
    "id": "HpPXjF4Xdwuk",
    "pycharm": {
     "name": "#%% md\n"
    }
   },
   "source": [
    "# Deep Q-Network for Cart-Pole.\n",
    "\n",
    "In this assignment you are required to implement a Deep Q-Network agent, for the Cart-Pole problem.\n",
    "\n",
    "You need to submit your code, along with a plot of the rewards during training, and a video of an episode with the trained agent.\n"
   ]
  },
  {
   "cell_type": "markdown",
   "metadata": {
    "id": "dWEpKsGXdwup",
    "pycharm": {
     "name": "#%% md\n"
    }
   },
   "source": [
    "__Frameworks__ - we'll accept this homework in any deep learning framework. This particular notebook was designed for PyTorch, but you'll find it easy to adapt it to almost any Python-based deep learning framework."
   ]
  },
  {
   "cell_type": "code",
   "source": [
    "!pip install stable-baselines3 gym==0.22.0\n",
    "!pip install pyglet==1.5.27\n",
    "!pip install pyvirtualdisplay"
   ],
   "metadata": {
    "id": "8A9SjGmKhLPY",
    "colab": {
     "base_uri": "https://localhost:8080/"
    },
    "outputId": "7f3dae7a-b53e-4c11-ef69-32df3abf730b",
    "pycharm": {
     "name": "#%%\n"
    }
   },
   "execution_count": 1,
   "outputs": [
    {
     "output_type": "stream",
     "name": "stdout",
     "text": [
      "Requirement already satisfied: stable-baselines3 in /usr/local/lib/python3.10/dist-packages (2.2.1)\n",
      "Requirement already satisfied: gym==0.22.0 in /usr/local/lib/python3.10/dist-packages (0.22.0)\n",
      "Requirement already satisfied: numpy>=1.18.0 in /usr/local/lib/python3.10/dist-packages (from gym==0.22.0) (1.25.2)\n",
      "Requirement already satisfied: cloudpickle>=1.2.0 in /usr/local/lib/python3.10/dist-packages (from gym==0.22.0) (2.2.1)\n",
      "Requirement already satisfied: gym-notices>=0.0.4 in /usr/local/lib/python3.10/dist-packages (from gym==0.22.0) (0.0.8)\n",
      "Requirement already satisfied: gymnasium<0.30,>=0.28.1 in /usr/local/lib/python3.10/dist-packages (from stable-baselines3) (0.29.1)\n",
      "Requirement already satisfied: torch>=1.13 in /usr/local/lib/python3.10/dist-packages (from stable-baselines3) (2.2.1+cu121)\n",
      "Requirement already satisfied: pandas in /usr/local/lib/python3.10/dist-packages (from stable-baselines3) (1.5.3)\n",
      "Requirement already satisfied: matplotlib in /usr/local/lib/python3.10/dist-packages (from stable-baselines3) (3.7.1)\n",
      "Requirement already satisfied: typing-extensions>=4.3.0 in /usr/local/lib/python3.10/dist-packages (from gymnasium<0.30,>=0.28.1->stable-baselines3) (4.10.0)\n",
      "Requirement already satisfied: farama-notifications>=0.0.1 in /usr/local/lib/python3.10/dist-packages (from gymnasium<0.30,>=0.28.1->stable-baselines3) (0.0.4)\n",
      "Requirement already satisfied: filelock in /usr/local/lib/python3.10/dist-packages (from torch>=1.13->stable-baselines3) (3.13.1)\n",
      "Requirement already satisfied: sympy in /usr/local/lib/python3.10/dist-packages (from torch>=1.13->stable-baselines3) (1.12)\n",
      "Requirement already satisfied: networkx in /usr/local/lib/python3.10/dist-packages (from torch>=1.13->stable-baselines3) (3.2.1)\n",
      "Requirement already satisfied: jinja2 in /usr/local/lib/python3.10/dist-packages (from torch>=1.13->stable-baselines3) (3.1.3)\n",
      "Requirement already satisfied: fsspec in /usr/local/lib/python3.10/dist-packages (from torch>=1.13->stable-baselines3) (2023.6.0)\n",
      "Requirement already satisfied: nvidia-cuda-nvrtc-cu12==12.1.105 in /usr/local/lib/python3.10/dist-packages (from torch>=1.13->stable-baselines3) (12.1.105)\n",
      "Requirement already satisfied: nvidia-cuda-runtime-cu12==12.1.105 in /usr/local/lib/python3.10/dist-packages (from torch>=1.13->stable-baselines3) (12.1.105)\n",
      "Requirement already satisfied: nvidia-cuda-cupti-cu12==12.1.105 in /usr/local/lib/python3.10/dist-packages (from torch>=1.13->stable-baselines3) (12.1.105)\n",
      "Requirement already satisfied: nvidia-cudnn-cu12==8.9.2.26 in /usr/local/lib/python3.10/dist-packages (from torch>=1.13->stable-baselines3) (8.9.2.26)\n",
      "Requirement already satisfied: nvidia-cublas-cu12==12.1.3.1 in /usr/local/lib/python3.10/dist-packages (from torch>=1.13->stable-baselines3) (12.1.3.1)\n",
      "Requirement already satisfied: nvidia-cufft-cu12==11.0.2.54 in /usr/local/lib/python3.10/dist-packages (from torch>=1.13->stable-baselines3) (11.0.2.54)\n",
      "Requirement already satisfied: nvidia-curand-cu12==10.3.2.106 in /usr/local/lib/python3.10/dist-packages (from torch>=1.13->stable-baselines3) (10.3.2.106)\n",
      "Requirement already satisfied: nvidia-cusolver-cu12==11.4.5.107 in /usr/local/lib/python3.10/dist-packages (from torch>=1.13->stable-baselines3) (11.4.5.107)\n",
      "Requirement already satisfied: nvidia-cusparse-cu12==12.1.0.106 in /usr/local/lib/python3.10/dist-packages (from torch>=1.13->stable-baselines3) (12.1.0.106)\n",
      "Requirement already satisfied: nvidia-nccl-cu12==2.19.3 in /usr/local/lib/python3.10/dist-packages (from torch>=1.13->stable-baselines3) (2.19.3)\n",
      "Requirement already satisfied: nvidia-nvtx-cu12==12.1.105 in /usr/local/lib/python3.10/dist-packages (from torch>=1.13->stable-baselines3) (12.1.105)\n",
      "Requirement already satisfied: triton==2.2.0 in /usr/local/lib/python3.10/dist-packages (from torch>=1.13->stable-baselines3) (2.2.0)\n",
      "Requirement already satisfied: nvidia-nvjitlink-cu12 in /usr/local/lib/python3.10/dist-packages (from nvidia-cusolver-cu12==11.4.5.107->torch>=1.13->stable-baselines3) (12.4.99)\n",
      "Requirement already satisfied: contourpy>=1.0.1 in /usr/local/lib/python3.10/dist-packages (from matplotlib->stable-baselines3) (1.2.0)\n",
      "Requirement already satisfied: cycler>=0.10 in /usr/local/lib/python3.10/dist-packages (from matplotlib->stable-baselines3) (0.12.1)\n",
      "Requirement already satisfied: fonttools>=4.22.0 in /usr/local/lib/python3.10/dist-packages (from matplotlib->stable-baselines3) (4.49.0)\n",
      "Requirement already satisfied: kiwisolver>=1.0.1 in /usr/local/lib/python3.10/dist-packages (from matplotlib->stable-baselines3) (1.4.5)\n",
      "Requirement already satisfied: packaging>=20.0 in /usr/local/lib/python3.10/dist-packages (from matplotlib->stable-baselines3) (24.0)\n",
      "Requirement already satisfied: pillow>=6.2.0 in /usr/local/lib/python3.10/dist-packages (from matplotlib->stable-baselines3) (9.4.0)\n",
      "Requirement already satisfied: pyparsing>=2.3.1 in /usr/local/lib/python3.10/dist-packages (from matplotlib->stable-baselines3) (3.1.2)\n",
      "Requirement already satisfied: python-dateutil>=2.7 in /usr/local/lib/python3.10/dist-packages (from matplotlib->stable-baselines3) (2.8.2)\n",
      "Requirement already satisfied: pytz>=2020.1 in /usr/local/lib/python3.10/dist-packages (from pandas->stable-baselines3) (2023.4)\n",
      "Requirement already satisfied: six>=1.5 in /usr/local/lib/python3.10/dist-packages (from python-dateutil>=2.7->matplotlib->stable-baselines3) (1.16.0)\n",
      "Requirement already satisfied: MarkupSafe>=2.0 in /usr/local/lib/python3.10/dist-packages (from jinja2->torch>=1.13->stable-baselines3) (2.1.5)\n",
      "Requirement already satisfied: mpmath>=0.19 in /usr/local/lib/python3.10/dist-packages (from sympy->torch>=1.13->stable-baselines3) (1.3.0)\n",
      "Requirement already satisfied: pyglet==1.5.27 in /usr/local/lib/python3.10/dist-packages (1.5.27)\n",
      "Requirement already satisfied: pyvirtualdisplay in /usr/local/lib/python3.10/dist-packages (3.0)\n"
     ]
    }
   ]
  },
  {
   "cell_type": "code",
   "execution_count": 2,
   "metadata": {
    "id": "su-Sf4z3dwup",
    "colab": {
     "base_uri": "https://localhost:8080/"
    },
    "outputId": "dc4ead3d-34d2-4f46-d7d8-640951848662",
    "pycharm": {
     "name": "#%%\n"
    }
   },
   "outputs": [
    {
     "output_type": "stream",
     "name": "stderr",
     "text": [
      "\n"
     ]
    },
    {
     "output_type": "execute_result",
     "data": {
      "text/plain": [
       "<pyvirtualdisplay.display.Display at 0x7f76e69daad0>"
      ]
     },
     "metadata": {},
     "execution_count": 2
    }
   ],
   "source": [
    "from collections import deque\n",
    "import os\n",
    "import random\n",
    "import numpy as np\n",
    "import torch\n",
    "import gym\n",
    "import numpy as np\n",
    "import matplotlib.pyplot as plt\n",
    "from IPython import display as ipythondisplay\n",
    "from pyvirtualdisplay import Display\n",
    "\n",
    "if type(os.environ.get(\"DISPLAY\")) is not str or len(os.environ.get(\"DISPLAY\")) == 0:\n",
    "    !apt-get -qq install -y xvfb\n",
    "    os.environ['DISPLAY'] = ':1'\n",
    "\n",
    "display = Display(visible=0, size=(400, 300))\n",
    "display.start()\n"
   ]
  },
  {
   "cell_type": "markdown",
   "source": [
    "## Cart Pole\n",
    "\n",
    "In this environment a pole is attached by an un-actuated joint to a cart, which moves along a frictionless track. The pendulum is placed upright on the cart and the goal is to balance the pole by applying forces in the left and right direction on the cart.\n",
    "\n",
    "The observation consists of the cart position, cart velocity, pole angle and pole angular velocity.\n",
    "\n",
    "There are 2 actions corresponding to moving the cart to the left and to the right.\n",
    "\n",
    "See full description [here](https://www.gymlibrary.dev/environments/classic_control/cart_pole/).\n",
    "\n"
   ],
   "metadata": {
    "id": "kM9mLGshmdmD",
    "pycharm": {
     "name": "#%% md\n"
    }
   }
  },
  {
   "cell_type": "code",
   "source": [
    "ENV_NAME = \"CartPole-v0\"\n",
    "\n",
    "def make_env(seed=None):\n",
    "    # some envs are wrapped with a time limit wrapper by default\n",
    "    env = gym.make(ENV_NAME).unwrapped\n",
    "    if seed is not None:\n",
    "        env.seed(seed)\n",
    "    return env"
   ],
   "metadata": {
    "id": "d-i5V3zZD0RM",
    "pycharm": {
     "name": "#%%\n"
    }
   },
   "execution_count": 3,
   "outputs": []
  },
  {
   "cell_type": "code",
   "source": [
    "env = gym.make(ENV_NAME)\n",
    "obs = env.reset()\n",
    "\n",
    "\n",
    "n_actions = env.action_space.n\n",
    "obs_dim = obs.shape\n",
    "print(\"observation dim\", obs_dim, \"number of actions\", n_actions)\n",
    "\n",
    "n_cols = 5\n",
    "n_rows = 2\n",
    "fig = plt.figure(figsize=(16, 9))\n",
    "\n",
    "for row in range(n_rows):\n",
    "    for col in range(n_cols):\n",
    "        ax = fig.add_subplot(n_rows, n_cols, row * n_cols + col + 1)\n",
    "        ax.imshow(env.render('rgb_array'))\n",
    "        env.step(env.action_space.sample())\n",
    "plt.show()"
   ],
   "metadata": {
    "id": "rRyG8rMWhwrp",
    "colab": {
     "base_uri": "https://localhost:8080/",
     "height": 658
    },
    "outputId": "8843d137-9739-4bfc-9a9f-72604dc1fbce",
    "pycharm": {
     "name": "#%%\n"
    }
   },
   "execution_count": 4,
   "outputs": [
    {
     "output_type": "stream",
     "name": "stderr",
     "text": [
      "/usr/local/lib/python3.10/dist-packages/gym/envs/registration.py:505: UserWarning: \u001B[33mWARN: The environment CartPole-v0 is out of date. You should consider upgrading to version `v1` with the environment ID `CartPole-v1`.\u001B[0m\n",
      "  logger.warn(\n"
     ]
    },
    {
     "output_type": "stream",
     "name": "stdout",
     "text": [
      "observation dim (4,) number of actions 2\n"
     ]
    },
    {
     "output_type": "display_data",
     "data": {
      "text/plain": [
       "<Figure size 1600x900 with 10 Axes>"
      ],
      "image/png": "[encoded data removed]"
     },
     "metadata": {}
    }
   ]
  },
  {
   "cell_type": "markdown",
   "source": [
    "## Random Agent\n",
    "\n",
    "Here we implement a random agent to use in the 'evaluate' function, that runs the agent through multiple epsiodes."
   ],
   "metadata": {
    "id": "untiH-mtyFXn",
    "pycharm": {
     "name": "#%% md\n"
    }
   }
  },
  {
   "cell_type": "code",
   "source": [
    "class RandomAgent():\n",
    "    def __init__(self, n_actions):\n",
    "        self.n_actions = n_actions\n",
    "\n",
    "\n",
    "    def get_qvalues(self, states):\n",
    "        return np.random.normal(size=(1,self.n_actions,))\n",
    "\n",
    "    def sample_actions(self, qvalues):\n",
    "        return np.random.randint(self.n_actions, size=(1,))"
   ],
   "metadata": {
    "id": "LBA1qQHx-vsb",
    "pycharm": {
     "name": "#%%\n"
    }
   },
   "execution_count": 5,
   "outputs": []
  },
  {
   "cell_type": "code",
   "execution_count": 6,
   "metadata": {
    "id": "7HGjUNw8dwuu",
    "pycharm": {
     "name": "#%%\n"
    }
   },
   "outputs": [],
   "source": [
    "def evaluate(env, agent, n_games=1, greedy=False, t_max=10000):\n",
    "    \"\"\" Plays n_games full games. If greedy, picks actions as argmax(qvalues). Returns mean reward. \"\"\"\n",
    "    rewards = []\n",
    "    for _ in range(n_games):\n",
    "        s = env.reset()\n",
    "        reward = 0\n",
    "        for _ in range(t_max):\n",
    "            qvalues = agent.get_qvalues([s])\n",
    "            action = qvalues.argmax(axis=-1)[0] if greedy else agent.sample_actions(qvalues)[0]\n",
    "            s, r, done, _ = env.step(action)\n",
    "            reward += r\n",
    "            if done:\n",
    "              break\n",
    "\n",
    "        rewards.append(reward)\n",
    "    return np.mean(rewards)\n",
    "\n",
    "agent = RandomAgent(n_actions)\n",
    "mean_reward = evaluate(env, agent, greedy=True, n_games=5)"
   ]
  },
  {
   "cell_type": "markdown",
   "source": [
    "## Assignment\n",
    "\n",
    "Implement a DQN agent that contains:\n",
    "1. A neural network that predicts the q-values for a given observation.\n",
    "2. An experience replay buffer where all transitions are added.\n",
    "3. A target Q-network that is formed by periodically copying the weights of the main Q-nework.\n",
    "\n",
    "You will also need to implement the training loop, and submit a figure showing the reward as a function of the training step, and a video showing an episode with the trained agent."
   ],
   "metadata": {
    "id": "y7wQU2iVzVNl",
    "pycharm": {
     "name": "#%% md\n"
    }
   }
  },
  {
   "cell_type": "markdown",
   "source": [
    "## Q-Network"
   ],
   "metadata": {
    "id": "cyBje3YWOF0n",
    "pycharm": {
     "name": "#%% md\n"
    }
   }
  },
  {
   "cell_type": "code",
   "source": [
    "# Define the Q-network\n",
    "class QNetwork(torch.nn.Module):\n",
    "    def __init__(self, input_size, hidden_size, output_size):\n",
    "        super(QNetwork, self).__init__()\n",
    "        self.fc1 = torch.nn.Linear(input_size, 512)\n",
    "        self.fc2 = torch.nn.Linear(512, 256)\n",
    "        self.fc3 = torch.nn.Linear(256, 64)\n",
    "        self.fc4 = torch.nn.Linear(64, output_size)\n",
    "\n",
    "    def forward(self, x):\n",
    "        x = torch.relu(self.fc1(x))\n",
    "        x = torch.relu(self.fc2(x))\n",
    "        x = torch.relu(self.fc3(x))\n",
    "        x = self.fc4(x)\n",
    "        return x"
   ],
   "metadata": {
    "id": "ScIPDBXaIFo3",
    "pycharm": {
     "name": "#%%\n"
    }
   },
   "execution_count": 7,
   "outputs": []
  },
  {
   "cell_type": "markdown",
   "source": [
    "## DQN Agent"
   ],
   "metadata": {
    "id": "znMaMHsAOACr",
    "pycharm": {
     "name": "#%% md\n"
    }
   }
  },
  {
   "cell_type": "code",
   "source": [
    "# Define the DQN Agent\n",
    "\n",
    "class DQNAgent:\n",
    "    def __init__(self, input_size, hidden_size, output_size, lr, discount_factor, epsilon, epsilon_decay):\n",
    "        self.q_network = QNetwork(input_size, hidden_size, output_size)\n",
    "        self.target_network = QNetwork(input_size, hidden_size, output_size)\n",
    "        self.target_network.load_state_dict(self.q_network.state_dict())\n",
    "        self.optimizer = torch.optim.RMSprop(self.q_network.parameters(), lr=lr, alpha=0.9, eps=0.01)\n",
    "        self.criterion = torch.nn.MSELoss()\n",
    "        self.discount_factor = discount_factor\n",
    "        self.input_size = input_size\n",
    "        self.output_size = output_size\n",
    "        self.epsilon = epsilon\n",
    "        self.epsilon_min = 0.001\n",
    "        self.epsilon_decay = epsilon_decay\n",
    "        self.replay_buffer = deque(maxlen=2000)\n",
    "        self.steps_offline = 64\n",
    "\n",
    "    def select_action(self, state):\n",
    "      # Selecting action according to epsilon-greedy policy\n",
    "        if np.random.rand() < self.epsilon:\n",
    "            return random.randrange(self.output_size)\n",
    "        else:\n",
    "          state = torch.tensor(state, dtype=torch.float32).unsqueeze(0)\n",
    "          with torch.no_grad():\n",
    "            q_values = self.q_network(state)\n",
    "          return torch.argmax(q_values).item()\n",
    "\n",
    "    def update_q_network(self, state, action, reward, next_state, done):\n",
    "        # update q newtwork (step function)\n",
    "\n",
    "        # Adding the observation to replay buffer\n",
    "        self.replay_buffer.append((state, action, reward, next_state, done))\n",
    "\n",
    "        # Getting the offline batch and updating the q network\n",
    "        offline_batch = self.steps_offline\n",
    "        if len(self.replay_buffer) < self.steps_offline:\n",
    "          return\n",
    "\n",
    "        sampled_observations = random.sample(self.replay_buffer, offline_batch)\n",
    "        state, action, reward, next_state, done = zip(*sampled_observations)\n",
    "\n",
    "        state = torch.tensor(state, dtype=torch.float32)\n",
    "        action = torch.tensor(action, dtype=torch.int64).unsqueeze(1)\n",
    "        reward = torch.tensor(reward, dtype=torch.float32)\n",
    "        next_state = torch.tensor(next_state, dtype=torch.float32)\n",
    "        done = torch.tensor(done,  dtype=torch.int64)\n",
    "\n",
    "\n",
    "        # Calculate Q-value\n",
    "        q_values = self.q_network(state)\n",
    "        q_value = q_values.gather(1, action)\n",
    "\n",
    "        # Calculate target Q-value\n",
    "        with torch.no_grad():\n",
    "            max_next_q_value = self.target_network(next_state).max(1)[0].detach()\n",
    "            target_q_value = reward + self.discount_factor * max_next_q_value * (1 - done)\n",
    "\n",
    "        # Update Q-network\n",
    "        loss = 0.5 * self.criterion(q_value, target_q_value.unsqueeze(1))\n",
    "        self.optimizer.zero_grad()\n",
    "        loss.backward()\n",
    "        self.optimizer.step()\n",
    "\n",
    "    def update_target_network(self):\n",
    "        # Updating the target network by copying the q network parameters to it\n",
    "        self.target_network.load_state_dict(self.q_network.state_dict())\n",
    "\n",
    "    def get_qvalues(self, state):\n",
    "        # Getting the Q values as tensor form the Q Network\n",
    "        with torch.no_grad():\n",
    "          state = torch.tensor(state, dtype=torch.float32).unsqueeze(0)\n",
    "          q_values = self.q_network(state)\n",
    "        return q_values.squeeze().cpu().numpy()\n",
    "\n",
    "    def sample_actions(self, q_values):\n",
    "        # Sample actions for evaluating the agent, we do not need the epsilon\n",
    "        with torch.no_grad():\n",
    "            q_values = torch.tensor(q_values, dtype=torch.float32)\n",
    "            action = q_values.argmax().item()  # Get the index of the maximum Q-value\n",
    "            return [action]\n",
    "\n",
    "    def decay_epsilon(self):\n",
    "        # Decaying the epsilon, while maintaining at leas a value=0.001 for epsilon\n",
    "        self.epsilon = max([self.epsilon * self.epsilon_decay, 0.001])\n",
    "\n",
    "    def state_dict(self):\n",
    "      # Saving DQN Agent Networks parmeters\n",
    "      torch.save(self.q_network.state_dict(), '/content/drive/My Drive/Colab/dqn_CartPole_QNetwork_model.pth')\n",
    "      torch.save(self.target_network.state_dict(), '/content/drive/My Drive/Colab/dqn_CartPole_target_model.pth')\n",
    "\n",
    "    def state_load(self):\n",
    "      # Loading DQN Agent Networks parmeters\n",
    "      self.q_network.load_state_dict(torch.load('/content/drive/My Drive/Colab/dqn_CartPole_QNetwork_model.pth'))\n",
    "      self.target_network.load_state_dict(torch.load('/content/drive/My Drive/Colab/dqn_CartPole_target_model.pth'))\n",
    "\n"
   ],
   "metadata": {
    "id": "Qt2zOsX9p1UQ",
    "pycharm": {
     "name": "#%%\n"
    }
   },
   "execution_count": 9,
   "outputs": []
  },
  {
   "cell_type": "markdown",
   "source": [
    "## Training"
   ],
   "metadata": {
    "id": "rh-rJnTDN8XX",
    "pycharm": {
     "name": "#%% md\n"
    }
   }
  },
  {
   "cell_type": "code",
   "source": [
    "from google.colab import drive\n",
    "drive.mount('/content/drive')\n",
    "\n",
    "# Hyperparameters\n",
    "lr = 0.00025\n",
    "discount_factor = 0.99\n",
    "hidden_size = 32\n",
    "batch_size = 64\n",
    "num_episodes = 150\n",
    "epsilon = 1\n",
    "decay_epsilon = 0.9\n",
    "\n",
    "input_size = env.observation_space.shape[0]\n",
    "output_size = env.action_space.n\n",
    "\n",
    "# Initialize the agent\n",
    "agent = DQNAgent(input_size, hidden_size, output_size, lr, discount_factor, epsilon, decay_epsilon)\n",
    "\n",
    "rewards =[]\n",
    "cons = 0\n",
    "cnt = 0\n",
    "\n",
    "# Training loop\n",
    "for episode in range(num_episodes):\n",
    "    state = env.reset()\n",
    "    total_reward = 0\n",
    "    done = False\n",
    "    while not done:\n",
    "        action = agent.select_action(state)\n",
    "        next_state, reward, done, _ = env.step(action)\n",
    "        agent.update_q_network(state, action, reward, next_state, done)\n",
    "        total_reward += reward\n",
    "        state = next_state\n",
    "\n",
    "        # Updating the target network every 50 step\n",
    "        cnt += 1\n",
    "        if cnt % 50 == 0:\n",
    "          cnt = 0\n",
    "          agent.update_target_network()\n",
    "\n",
    "    # saving the rewards for each epsoide\n",
    "    rewards.append(total_reward)\n",
    "\n",
    "    # Decaying Epsilon\n",
    "    agent.decay_epsilon()\n",
    "\n",
    "    # Saving the model\n",
    "    agent.state_dict()\n",
    "\n",
    "    print(f\"Episode: {episode + 1}, Total Reward: {total_reward}\")"
   ],
   "metadata": {
    "id": "idZJH61oO26a",
    "colab": {
     "base_uri": "https://localhost:8080/"
    },
    "outputId": "ec741b60-5fcf-4528-8b33-da8c406e796c",
    "pycharm": {
     "name": "#%%\n"
    }
   },
   "execution_count": 10,
   "outputs": [
    {
     "output_type": "stream",
     "name": "stdout",
     "text": [
      "Drive already mounted at /content/drive; to attempt to forcibly remount, call drive.mount(\"/content/drive\", force_remount=True).\n",
      "Episode: 1, Total Reward: 62.0\n",
      "Episode: 2, Total Reward: 17.0\n"
     ]
    },
    {
     "output_type": "stream",
     "name": "stderr",
     "text": [
      "<ipython-input-9-d526c3e00572>:43: UserWarning: Creating a tensor from a list of numpy.ndarrays is extremely slow. Please consider converting the list to a single numpy.ndarray with numpy.array() before converting to a tensor. (Triggered internally at ../torch/csrc/utils/tensor_new.cpp:275.)\n",
      "  state = torch.tensor(state, dtype=torch.float32)\n"
     ]
    },
    {
     "output_type": "stream",
     "name": "stdout",
     "text": [
      "Episode: 3, Total Reward: 11.0\n",
      "Episode: 4, Total Reward: 13.0\n",
      "Episode: 5, Total Reward: 8.0\n",
      "Episode: 6, Total Reward: 12.0\n",
      "Episode: 7, Total Reward: 10.0\n",
      "Episode: 8, Total Reward: 17.0\n",
      "Episode: 9, Total Reward: 13.0\n",
      "Episode: 10, Total Reward: 12.0\n",
      "Episode: 11, Total Reward: 14.0\n",
      "Episode: 12, Total Reward: 10.0\n",
      "Episode: 13, Total Reward: 10.0\n",
      "Episode: 14, Total Reward: 10.0\n",
      "Episode: 15, Total Reward: 10.0\n",
      "Episode: 16, Total Reward: 11.0\n",
      "Episode: 17, Total Reward: 15.0\n",
      "Episode: 18, Total Reward: 10.0\n",
      "Episode: 19, Total Reward: 9.0\n",
      "Episode: 20, Total Reward: 10.0\n",
      "Episode: 21, Total Reward: 9.0\n",
      "Episode: 22, Total Reward: 13.0\n",
      "Episode: 23, Total Reward: 11.0\n",
      "Episode: 24, Total Reward: 13.0\n",
      "Episode: 25, Total Reward: 28.0\n",
      "Episode: 26, Total Reward: 10.0\n",
      "Episode: 27, Total Reward: 11.0\n",
      "Episode: 28, Total Reward: 21.0\n",
      "Episode: 29, Total Reward: 9.0\n",
      "Episode: 30, Total Reward: 25.0\n",
      "Episode: 31, Total Reward: 12.0\n",
      "Episode: 32, Total Reward: 8.0\n",
      "Episode: 33, Total Reward: 13.0\n",
      "Episode: 34, Total Reward: 9.0\n",
      "Episode: 35, Total Reward: 10.0\n",
      "Episode: 36, Total Reward: 11.0\n",
      "Episode: 37, Total Reward: 10.0\n",
      "Episode: 38, Total Reward: 9.0\n",
      "Episode: 39, Total Reward: 8.0\n",
      "Episode: 40, Total Reward: 9.0\n",
      "Episode: 41, Total Reward: 8.0\n",
      "Episode: 42, Total Reward: 9.0\n",
      "Episode: 43, Total Reward: 9.0\n",
      "Episode: 44, Total Reward: 9.0\n",
      "Episode: 45, Total Reward: 11.0\n",
      "Episode: 46, Total Reward: 10.0\n",
      "Episode: 47, Total Reward: 10.0\n",
      "Episode: 48, Total Reward: 9.0\n",
      "Episode: 49, Total Reward: 10.0\n",
      "Episode: 50, Total Reward: 9.0\n",
      "Episode: 51, Total Reward: 8.0\n",
      "Episode: 52, Total Reward: 10.0\n",
      "Episode: 53, Total Reward: 10.0\n",
      "Episode: 54, Total Reward: 12.0\n",
      "Episode: 55, Total Reward: 15.0\n",
      "Episode: 56, Total Reward: 10.0\n",
      "Episode: 57, Total Reward: 83.0\n",
      "Episode: 58, Total Reward: 40.0\n",
      "Episode: 59, Total Reward: 39.0\n",
      "Episode: 60, Total Reward: 20.0\n",
      "Episode: 61, Total Reward: 21.0\n",
      "Episode: 62, Total Reward: 32.0\n",
      "Episode: 63, Total Reward: 34.0\n",
      "Episode: 64, Total Reward: 36.0\n",
      "Episode: 65, Total Reward: 21.0\n",
      "Episode: 66, Total Reward: 23.0\n",
      "Episode: 67, Total Reward: 23.0\n",
      "Episode: 68, Total Reward: 29.0\n",
      "Episode: 69, Total Reward: 48.0\n",
      "Episode: 70, Total Reward: 38.0\n",
      "Episode: 71, Total Reward: 37.0\n",
      "Episode: 72, Total Reward: 49.0\n",
      "Episode: 73, Total Reward: 25.0\n",
      "Episode: 74, Total Reward: 45.0\n",
      "Episode: 75, Total Reward: 49.0\n",
      "Episode: 76, Total Reward: 84.0\n",
      "Episode: 77, Total Reward: 62.0\n",
      "Episode: 78, Total Reward: 56.0\n",
      "Episode: 79, Total Reward: 113.0\n",
      "Episode: 80, Total Reward: 118.0\n",
      "Episode: 81, Total Reward: 149.0\n",
      "Episode: 82, Total Reward: 157.0\n",
      "Episode: 83, Total Reward: 197.0\n",
      "Episode: 84, Total Reward: 200.0\n",
      "Episode: 85, Total Reward: 200.0\n",
      "Episode: 86, Total Reward: 200.0\n",
      "Episode: 87, Total Reward: 200.0\n",
      "Episode: 88, Total Reward: 200.0\n",
      "Episode: 89, Total Reward: 200.0\n",
      "Episode: 90, Total Reward: 200.0\n",
      "Episode: 91, Total Reward: 200.0\n",
      "Episode: 92, Total Reward: 200.0\n",
      "Episode: 93, Total Reward: 200.0\n",
      "Episode: 94, Total Reward: 200.0\n",
      "Episode: 95, Total Reward: 200.0\n",
      "Episode: 96, Total Reward: 200.0\n",
      "Episode: 97, Total Reward: 200.0\n",
      "Episode: 98, Total Reward: 200.0\n",
      "Episode: 99, Total Reward: 200.0\n",
      "Episode: 100, Total Reward: 179.0\n",
      "Episode: 101, Total Reward: 200.0\n",
      "Episode: 102, Total Reward: 182.0\n",
      "Episode: 103, Total Reward: 200.0\n",
      "Episode: 104, Total Reward: 200.0\n",
      "Episode: 105, Total Reward: 200.0\n",
      "Episode: 106, Total Reward: 200.0\n",
      "Episode: 107, Total Reward: 200.0\n",
      "Episode: 108, Total Reward: 200.0\n",
      "Episode: 109, Total Reward: 200.0\n",
      "Episode: 110, Total Reward: 200.0\n",
      "Episode: 111, Total Reward: 200.0\n",
      "Episode: 112, Total Reward: 200.0\n",
      "Episode: 113, Total Reward: 200.0\n",
      "Episode: 114, Total Reward: 200.0\n",
      "Episode: 115, Total Reward: 200.0\n",
      "Episode: 116, Total Reward: 200.0\n",
      "Episode: 117, Total Reward: 200.0\n",
      "Episode: 118, Total Reward: 200.0\n",
      "Episode: 119, Total Reward: 200.0\n",
      "Episode: 120, Total Reward: 200.0\n",
      "Episode: 121, Total Reward: 200.0\n",
      "Episode: 122, Total Reward: 200.0\n",
      "Episode: 123, Total Reward: 200.0\n",
      "Episode: 124, Total Reward: 200.0\n",
      "Episode: 125, Total Reward: 200.0\n",
      "Episode: 126, Total Reward: 200.0\n",
      "Episode: 127, Total Reward: 200.0\n",
      "Episode: 128, Total Reward: 200.0\n",
      "Episode: 129, Total Reward: 200.0\n",
      "Episode: 130, Total Reward: 200.0\n",
      "Episode: 131, Total Reward: 200.0\n",
      "Episode: 132, Total Reward: 200.0\n",
      "Episode: 133, Total Reward: 200.0\n",
      "Episode: 134, Total Reward: 200.0\n",
      "Episode: 135, Total Reward: 200.0\n",
      "Episode: 136, Total Reward: 200.0\n",
      "Episode: 137, Total Reward: 200.0\n",
      "Episode: 138, Total Reward: 200.0\n",
      "Episode: 139, Total Reward: 200.0\n",
      "Episode: 140, Total Reward: 200.0\n",
      "Episode: 141, Total Reward: 200.0\n",
      "Episode: 142, Total Reward: 200.0\n",
      "Episode: 143, Total Reward: 200.0\n",
      "Episode: 144, Total Reward: 200.0\n",
      "Episode: 145, Total Reward: 200.0\n",
      "Episode: 146, Total Reward: 200.0\n",
      "Episode: 147, Total Reward: 200.0\n",
      "Episode: 148, Total Reward: 200.0\n",
      "Episode: 149, Total Reward: 200.0\n",
      "Episode: 150, Total Reward: 200.0\n"
     ]
    }
   ]
  },
  {
   "cell_type": "markdown",
   "source": [
    "## Test REWARD PLOTS\n",
    "\n",
    "Plotting the total rewards for each epsoide during the test"
   ],
   "metadata": {
    "id": "bsEKDJ2GPNM0",
    "pycharm": {
     "name": "#%% md\n"
    }
   }
  },
  {
   "cell_type": "code",
   "source": [
    "import matplotlib.pyplot as plt\n",
    "\n",
    "plt.figure(figsize=(10, 6))\n",
    "plt.plot(rewards, color='blue')\n",
    "plt.title('Total Reward per Episode')\n",
    "plt.xlabel('Episode')\n",
    "plt.ylabel('Total Reward')\n",
    "plt.grid(True)\n",
    "plt.show()"
   ],
   "metadata": {
    "colab": {
     "base_uri": "https://localhost:8080/",
     "height": 564
    },
    "id": "3AFpzAt_PNtV",
    "outputId": "a1c11fb2-b188-43ab-dae6-ab5b8fad0240",
    "pycharm": {
     "name": "#%%\n"
    }
   },
   "execution_count": 11,
   "outputs": [
    {
     "output_type": "display_data",
     "data": {
      "text/plain": [
       "<Figure size 1000x600 with 1 Axes>"
      ],
      "image/png": "[encoded data removed]"
     },
     "metadata": {}
    }
   ]
  },
  {
   "cell_type": "markdown",
   "source": [
    "## Test Rewards Plots\n",
    "\n",
    "Evaluating the agent, by plotting the mean rewards of 10 games 10 times\n",
    "\n",
    "**We can see we always get a reward 200 which is the maximum reward"
   ],
   "metadata": {
    "id": "tlOx87toitXc",
    "pycharm": {
     "name": "#%% md\n"
    }
   }
  },
  {
   "cell_type": "code",
   "source": [
    "import matplotlib.pyplot as plt\n",
    "\n",
    "# Initialize the agent\n",
    "agent = DQNAgent(input_size, hidden_size, output_size, lr, discount_factor, epsilon, decay_epsilon)\n",
    "\n",
    "# Loading the agent parameters\n",
    "agent.state_load()\n",
    "\n",
    "# Getting test rewards\n",
    "test_rewards = [evaluate(env, agent, greedy=False, n_games=10) for i in range (10)]\n",
    "\n",
    "plt.figure(figsize=(10, 6))\n",
    "plt.plot(test_rewards, color='blue')\n",
    "plt.title('Total Reward per Evaluation')\n",
    "plt.xlabel('Evaluation')\n",
    "plt.ylabel('Total Reward')\n",
    "plt.grid(True)\n",
    "plt.show()"
   ],
   "metadata": {
    "colab": {
     "base_uri": "https://localhost:8080/",
     "height": 564
    },
    "id": "112OZ1wDi3bp",
    "outputId": "10daedcd-5409-4d66-d02e-9442a7b24c23",
    "pycharm": {
     "name": "#%%\n"
    }
   },
   "execution_count": 12,
   "outputs": [
    {
     "output_type": "display_data",
     "data": {
      "text/plain": [
       "<Figure size 1000x600 with 1 Axes>"
      ],
      "image/png": "[encoded data removed]"
     },
     "metadata": {}
    }
   ]
  },
  {
   "cell_type": "markdown",
   "source": [
    "## Video generation"
   ],
   "metadata": {
    "id": "gzQBwH6LbBf1",
    "pycharm": {
     "name": "#%% md\n"
    }
   }
  },
  {
   "cell_type": "code",
   "source": [
    "# run sessions\n",
    "\n",
    "import gym.wrappers\n",
    "import sys\n",
    "from pathlib import Path\n",
    "from base64 import b64encode\n",
    "from IPython.display import HTML\n",
    "\n",
    "\n",
    "# Hyperparameters\n",
    "lr = 0.00025\n",
    "discount_factor = 0.95\n",
    "hidden_size = 32\n",
    "batch_size = 64\n",
    "num_episodes = 2000\n",
    "epsilon = 1\n",
    "decay_epsilon = 0.9\n",
    "\n",
    "input_size = env.observation_space.shape[0]\n",
    "output_size = env.action_space.n\n",
    "\n",
    "# Initialize the agent\n",
    "agent = DQNAgent(input_size, hidden_size, output_size, lr, discount_factor, epsilon, decay_epsilon)\n",
    "\n",
    "# Loading the agent parameters\n",
    "agent.state_load()\n",
    "\n",
    "# how many games to record\n",
    "n_games = 1\n",
    "\n",
    "# Evaluating the agent\n",
    "\n",
    "with gym.wrappers.Monitor(make_env(), directory=\"videos\", force=True) as env_monitor:\n",
    "    env_monitor.reset()\n",
    "    sessions = [evaluate(env_monitor, agent, n_games, greedy=False) for _ in range(n_games)]\n",
    "\n",
    "# show video\n",
    "video_paths = sorted([s for s in Path('videos').iterdir() if s.suffix == '.mp4'])\n",
    "video_path = video_paths[-1]  # You can also try other indices (if n_games>1)\n",
    "\n",
    "if 'google.colab' in sys.modules:\n",
    "    # https://stackoverflow.com/a/57378660/1214547\n",
    "    with video_path.open('rb') as fp:\n",
    "        mp4 = fp.read()\n",
    "    data_url = 'data:video/mp4;base64,' + b64encode(mp4).decode()\n",
    "else:\n",
    "    data_url = str(video_path)\n",
    "\n",
    "HTML(\"\"\"\n",
    "<video width=\"640\" height=\"480\" controls>\n",
    "  <source src=\"{}\" type=\"video/mp4\">\n",
    "</video>\n",
    "\"\"\".format(data_url))"
   ],
   "metadata": {
    "colab": {
     "base_uri": "https://localhost:8080/",
     "height": 556
    },
    "id": "SD5fCXKJUAiW",
    "outputId": "d081cef1-978c-42e6-e7d0-f6d15610ffc3",
    "pycharm": {
     "name": "#%%\n"
    }
   },
   "execution_count": 14,
   "outputs": [
    {
     "output_type": "stream",
     "name": "stderr",
     "text": [
      "/usr/local/lib/python3.10/dist-packages/gym/envs/registration.py:505: UserWarning: \u001B[33mWARN: The environment CartPole-v0 is out of date. You should consider upgrading to version `v1` with the environment ID `CartPole-v1`.\u001B[0m\n",
      "  logger.warn(\n"
     ]
    },
    {
     "output_type": "execute_result",
     "data": {
      "text/plain": [
       "<IPython.core.display.HTML object>"
      ],
      "text/html": [
       "\n",
       "<video width=\"640\" height=\"480\" controls>\n",
       "  <source src=\"data:video/mp4;base64,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\" type=\"video/mp4\">\n",
       "</video>\n"
      ]
     },
     "metadata": {},
     "execution_count": 14
    }
   ]
  }
 ],
 "metadata": {
  "language_info": {
   "name": "python"
  },
  "colab": {
   "provenance": []
  },
  "kernelspec": {
   "name": "python3",
   "display_name": "Python 3"
  }
 },
 "nbformat": 4,
 "nbformat_minor": 0
}